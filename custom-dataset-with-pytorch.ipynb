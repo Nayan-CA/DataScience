{
 "cells": [
  {
   "cell_type": "code",
   "execution_count": 1,
   "id": "d2bd61bc",
   "metadata": {
    "_cell_guid": "b1076dfc-b9ad-4769-8c92-a6c4dae69d19",
    "_uuid": "8f2839f25d086af736a60e9eeb907d3b93b6e0e5",
    "execution": {
     "iopub.execute_input": "2024-07-12T07:53:30.478820Z",
     "iopub.status.busy": "2024-07-12T07:53:30.478351Z",
     "iopub.status.idle": "2024-07-12T07:53:31.562926Z",
     "shell.execute_reply": "2024-07-12T07:53:31.561458Z"
    },
    "papermill": {
     "duration": 1.094753,
     "end_time": "2024-07-12T07:53:31.567120",
     "exception": false,
     "start_time": "2024-07-12T07:53:30.472367",
     "status": "completed"
    },
    "tags": []
   },
   "outputs": [],
   "source": [
    "# This Python 3 environment comes with many helpful analytics libraries installed\n",
    "# It is defined by the kaggle/python Docker image: https://github.com/kaggle/docker-python\n",
    "# For example, here's several helpful packages to load\n",
    "\n",
    "import numpy as np # linear algebra\n",
    "import pandas as pd # data processing, CSV file I/O (e.g. pd.read_csv)\n",
    "\n",
    "# Input data files are available in the read-only \"../input/\" directory\n",
    "# For example, running this (by clicking run or pressing Shift+Enter) will list all files under the input directory\n",
    "\n",
    "import os\n",
    "for dirname, _, filenames in os.walk('/kaggle/input'):\n",
    "    for filename in filenames:\n",
    "        print(os.path.join(dirname, filename))\n",
    "\n",
    "# You can write up to 20GB to the current directory (/kaggle/working/) that gets preserved as output when you create a version using \"Save & Run All\" \n",
    "# You can also write temporary files to /kaggle/temp/, but they won't be saved outside of the current session"
   ]
  },
  {
   "cell_type": "code",
   "execution_count": 2,
   "id": "50271b66",
   "metadata": {
    "execution": {
     "iopub.execute_input": "2024-07-12T07:53:31.577617Z",
     "iopub.status.busy": "2024-07-12T07:53:31.577087Z",
     "iopub.status.idle": "2024-07-12T07:53:35.788140Z",
     "shell.execute_reply": "2024-07-12T07:53:35.787030Z"
    },
    "papermill": {
     "duration": 4.219603,
     "end_time": "2024-07-12T07:53:35.791095",
     "exception": false,
     "start_time": "2024-07-12T07:53:31.571492",
     "status": "completed"
    },
    "tags": []
   },
   "outputs": [],
   "source": [
    "import torch\n",
    "from torch import nn"
   ]
  },
  {
   "cell_type": "code",
   "execution_count": 3,
   "id": "6c16764d",
   "metadata": {
    "execution": {
     "iopub.execute_input": "2024-07-12T07:53:35.801648Z",
     "iopub.status.busy": "2024-07-12T07:53:35.801084Z",
     "iopub.status.idle": "2024-07-12T07:53:35.811275Z",
     "shell.execute_reply": "2024-07-12T07:53:35.809680Z"
    },
    "papermill": {
     "duration": 0.018385,
     "end_time": "2024-07-12T07:53:35.814169",
     "exception": false,
     "start_time": "2024-07-12T07:53:35.795784",
     "status": "completed"
    },
    "tags": []
   },
   "outputs": [
    {
     "data": {
      "text/plain": [
       "'cpu'"
      ]
     },
     "execution_count": 3,
     "metadata": {},
     "output_type": "execute_result"
    }
   ],
   "source": [
    "device = \"cuda\" if torch.cuda.is_available() else \"cpu\"\n",
    "device"
   ]
  },
  {
   "cell_type": "code",
   "execution_count": 4,
   "id": "346df7dc",
   "metadata": {
    "execution": {
     "iopub.execute_input": "2024-07-12T07:53:35.825190Z",
     "iopub.status.busy": "2024-07-12T07:53:35.824646Z",
     "iopub.status.idle": "2024-07-12T07:53:36.570482Z",
     "shell.execute_reply": "2024-07-12T07:53:36.569175Z"
    },
    "papermill": {
     "duration": 0.754732,
     "end_time": "2024-07-12T07:53:36.573367",
     "exception": false,
     "start_time": "2024-07-12T07:53:35.818635",
     "status": "completed"
    },
    "tags": []
   },
   "outputs": [
    {
     "name": "stdout",
     "output_type": "stream",
     "text": [
      "data/pizza_steak_sushi does not exist, creating one\n",
      "Downloading pizza,steak,sushi data\n",
      "Unzipping pizza,steak and sushi data\n"
     ]
    }
   ],
   "source": [
    "import requests\n",
    "import zipfile\n",
    "from pathlib import Path\n",
    "\n",
    "data_path = Path(\"data/\")\n",
    "image_path = data_path/\"pizza_steak_sushi\"\n",
    "\n",
    "if image_path.is_dir():\n",
    "    print(f\"{image_path} directory already exists skipping download\")\n",
    "else:\n",
    "    print(f\"{image_path} does not exist, creating one\")\n",
    "    image_path.mkdir(parents=True,exist_ok=True)\n",
    "    \n",
    "\n",
    "with open(data_path/\"pizza_steak_sushi.zip\",\"wb\") as f:\n",
    "    \n",
    "    request = requests.get(\"https://github.com/mrdbourke/pytorch-deep-learning/raw/main/data/pizza_steak_sushi.zip\")\n",
    "    print(\"Downloading pizza,steak,sushi data\")\n",
    "    f.write(request.content)\n",
    "    \n",
    "with zipfile.ZipFile(data_path/\"pizza_steak_sushi.zip\",\"r\") as zip_ref:\n",
    "    print(\"Unzipping pizza,steak and sushi data\")\n",
    "    zip_ref.extractall(image_path)"
   ]
  },
  {
   "cell_type": "code",
   "execution_count": 5,
   "id": "7afdff88",
   "metadata": {
    "execution": {
     "iopub.execute_input": "2024-07-12T07:53:36.584319Z",
     "iopub.status.busy": "2024-07-12T07:53:36.583806Z",
     "iopub.status.idle": "2024-07-12T07:53:36.591404Z",
     "shell.execute_reply": "2024-07-12T07:53:36.589779Z"
    },
    "papermill": {
     "duration": 0.016231,
     "end_time": "2024-07-12T07:53:36.594126",
     "exception": false,
     "start_time": "2024-07-12T07:53:36.577895",
     "status": "completed"
    },
    "tags": []
   },
   "outputs": [],
   "source": [
    "import os\n",
    "\n",
    "def walk_through_dir(dir_path):\n",
    "    for dirpath,dirnames,filenames in os.walk(dir_path):\n",
    "        print(f\"There are {len(dirnames)} directories and {len(filenames)} images in '{dirpath}'.\")"
   ]
  },
  {
   "cell_type": "code",
   "execution_count": 6,
   "id": "4ca00241",
   "metadata": {
    "execution": {
     "iopub.execute_input": "2024-07-12T07:53:36.605312Z",
     "iopub.status.busy": "2024-07-12T07:53:36.604851Z",
     "iopub.status.idle": "2024-07-12T07:53:36.613364Z",
     "shell.execute_reply": "2024-07-12T07:53:36.611849Z"
    },
    "papermill": {
     "duration": 0.017312,
     "end_time": "2024-07-12T07:53:36.616221",
     "exception": false,
     "start_time": "2024-07-12T07:53:36.598909",
     "status": "completed"
    },
    "tags": []
   },
   "outputs": [
    {
     "name": "stdout",
     "output_type": "stream",
     "text": [
      "There are 2 directories and 0 images in 'data/pizza_steak_sushi'.\n",
      "There are 3 directories and 0 images in 'data/pizza_steak_sushi/test'.\n",
      "There are 0 directories and 31 images in 'data/pizza_steak_sushi/test/sushi'.\n",
      "There are 0 directories and 19 images in 'data/pizza_steak_sushi/test/steak'.\n",
      "There are 0 directories and 25 images in 'data/pizza_steak_sushi/test/pizza'.\n",
      "There are 3 directories and 0 images in 'data/pizza_steak_sushi/train'.\n",
      "There are 0 directories and 72 images in 'data/pizza_steak_sushi/train/sushi'.\n",
      "There are 0 directories and 75 images in 'data/pizza_steak_sushi/train/steak'.\n",
      "There are 0 directories and 78 images in 'data/pizza_steak_sushi/train/pizza'.\n"
     ]
    }
   ],
   "source": [
    "walk_through_dir(image_path)"
   ]
  },
  {
   "cell_type": "code",
   "execution_count": 7,
   "id": "0439b283",
   "metadata": {
    "execution": {
     "iopub.execute_input": "2024-07-12T07:53:36.626589Z",
     "iopub.status.busy": "2024-07-12T07:53:36.626166Z",
     "iopub.status.idle": "2024-07-12T07:53:36.633160Z",
     "shell.execute_reply": "2024-07-12T07:53:36.632168Z"
    },
    "papermill": {
     "duration": 0.01552,
     "end_time": "2024-07-12T07:53:36.636072",
     "exception": false,
     "start_time": "2024-07-12T07:53:36.620552",
     "status": "completed"
    },
    "tags": []
   },
   "outputs": [
    {
     "data": {
      "text/plain": [
       "(PosixPath('data/pizza_steak_sushi/train'),\n",
       " PosixPath('data/pizza_steak_sushi/test'))"
      ]
     },
     "execution_count": 7,
     "metadata": {},
     "output_type": "execute_result"
    }
   ],
   "source": [
    "train_dir = image_path/\"train\"\n",
    "test_dir = image_path/\"test\"\n",
    "\n",
    "train_dir,test_dir"
   ]
  },
  {
   "cell_type": "code",
   "execution_count": null,
   "id": "11ec86fd",
   "metadata": {
    "papermill": {
     "duration": 0.004354,
     "end_time": "2024-07-12T07:53:36.644829",
     "exception": false,
     "start_time": "2024-07-12T07:53:36.640475",
     "status": "completed"
    },
    "tags": []
   },
   "outputs": [],
   "source": []
  }
 ],
 "metadata": {
  "kaggle": {
   "accelerator": "none",
   "dataSources": [],
   "dockerImageVersionId": 30733,
   "isGpuEnabled": false,
   "isInternetEnabled": true,
   "language": "python",
   "sourceType": "notebook"
  },
  "kernelspec": {
   "display_name": "Python 3",
   "language": "python",
   "name": "python3"
  },
  "language_info": {
   "codemirror_mode": {
    "name": "ipython",
    "version": 3
   },
   "file_extension": ".py",
   "mimetype": "text/x-python",
   "name": "python",
   "nbconvert_exporter": "python",
   "pygments_lexer": "ipython3",
   "version": "3.10.13"
  },
  "papermill": {
   "default_parameters": {},
   "duration": 10.560811,
   "end_time": "2024-07-12T07:53:37.673915",
   "environment_variables": {},
   "exception": null,
   "input_path": "__notebook__.ipynb",
   "output_path": "__notebook__.ipynb",
   "parameters": {},
   "start_time": "2024-07-12T07:53:27.113104",
   "version": "2.5.0"
  }
 },
 "nbformat": 4,
 "nbformat_minor": 5
}

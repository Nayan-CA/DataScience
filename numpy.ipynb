{
 "cells": [
  {
   "cell_type": "code",
   "execution_count": 1,
   "id": "7a8a79d6",
   "metadata": {
    "_cell_guid": "b1076dfc-b9ad-4769-8c92-a6c4dae69d19",
    "_uuid": "8f2839f25d086af736a60e9eeb907d3b93b6e0e5",
    "execution": {
     "iopub.execute_input": "2024-08-22T09:49:51.954115Z",
     "iopub.status.busy": "2024-08-22T09:49:51.953102Z",
     "iopub.status.idle": "2024-08-22T09:49:52.390090Z",
     "shell.execute_reply": "2024-08-22T09:49:52.389110Z"
    },
    "papermill": {
     "duration": 0.463904,
     "end_time": "2024-08-22T09:49:52.392852",
     "exception": false,
     "start_time": "2024-08-22T09:49:51.928948",
     "status": "completed"
    },
    "tags": []
   },
   "outputs": [],
   "source": [
    "# This Python 3 environment comes with many helpful analytics libraries installed\n",
    "# It is defined by the kaggle/python Docker image: https://github.com/kaggle/docker-python\n",
    "# For example, here's several helpful packages to load\n",
    "\n",
    "import numpy as np # linear algebra\n",
    "import pandas as pd # data processing, CSV file I/O (e.g. pd.read_csv)\n",
    "\n",
    "# Input data files are available in the read-only \"../input/\" directory\n",
    "# For example, running this (by clicking run or pressing Shift+Enter) will list all files under the input directory\n",
    "\n",
    "import os\n",
    "for dirname, _, filenames in os.walk('/kaggle/input'):\n",
    "    for filename in filenames:\n",
    "        print(os.path.join(dirname, filename))\n",
    "\n",
    "# You can write up to 20GB to the current directory (/kaggle/working/) that gets preserved as output when you create a version using \"Save & Run All\" \n",
    "# You can also write temporary files to /kaggle/temp/, but they won't be saved outside of the current session"
   ]
  },
  {
   "cell_type": "code",
   "execution_count": 2,
   "id": "d543e077",
   "metadata": {
    "execution": {
     "iopub.execute_input": "2024-08-22T09:49:52.444783Z",
     "iopub.status.busy": "2024-08-22T09:49:52.443707Z",
     "iopub.status.idle": "2024-08-22T09:49:52.448845Z",
     "shell.execute_reply": "2024-08-22T09:49:52.447719Z"
    },
    "papermill": {
     "duration": 0.030217,
     "end_time": "2024-08-22T09:49:52.451195",
     "exception": false,
     "start_time": "2024-08-22T09:49:52.420978",
     "status": "completed"
    },
    "tags": []
   },
   "outputs": [],
   "source": [
    "import numpy as np"
   ]
  },
  {
   "cell_type": "code",
   "execution_count": 3,
   "id": "4b029276",
   "metadata": {
    "execution": {
     "iopub.execute_input": "2024-08-22T09:49:52.496262Z",
     "iopub.status.busy": "2024-08-22T09:49:52.495216Z",
     "iopub.status.idle": "2024-08-22T09:49:52.503151Z",
     "shell.execute_reply": "2024-08-22T09:49:52.502099Z"
    },
    "papermill": {
     "duration": 0.032656,
     "end_time": "2024-08-22T09:49:52.505451",
     "exception": false,
     "start_time": "2024-08-22T09:49:52.472795",
     "status": "completed"
    },
    "tags": []
   },
   "outputs": [
    {
     "data": {
      "text/plain": [
       "list"
      ]
     },
     "execution_count": 3,
     "metadata": {},
     "output_type": "execute_result"
    }
   ],
   "source": [
    "mylist = [1,2,3]\n",
    "type(mylist)"
   ]
  },
  {
   "cell_type": "code",
   "execution_count": 4,
   "id": "b8c2af09",
   "metadata": {
    "execution": {
     "iopub.execute_input": "2024-08-22T09:49:52.550077Z",
     "iopub.status.busy": "2024-08-22T09:49:52.549655Z",
     "iopub.status.idle": "2024-08-22T09:49:52.554889Z",
     "shell.execute_reply": "2024-08-22T09:49:52.553546Z"
    },
    "papermill": {
     "duration": 0.030591,
     "end_time": "2024-08-22T09:49:52.557190",
     "exception": false,
     "start_time": "2024-08-22T09:49:52.526599",
     "status": "completed"
    },
    "tags": []
   },
   "outputs": [],
   "source": [
    "myarray = np.array(mylist)"
   ]
  },
  {
   "cell_type": "code",
   "execution_count": 5,
   "id": "215b8380",
   "metadata": {
    "execution": {
     "iopub.execute_input": "2024-08-22T09:49:52.601663Z",
     "iopub.status.busy": "2024-08-22T09:49:52.600742Z",
     "iopub.status.idle": "2024-08-22T09:49:52.607550Z",
     "shell.execute_reply": "2024-08-22T09:49:52.606517Z"
    },
    "papermill": {
     "duration": 0.031671,
     "end_time": "2024-08-22T09:49:52.609969",
     "exception": false,
     "start_time": "2024-08-22T09:49:52.578298",
     "status": "completed"
    },
    "tags": []
   },
   "outputs": [
    {
     "data": {
      "text/plain": [
       "numpy.ndarray"
      ]
     },
     "execution_count": 5,
     "metadata": {},
     "output_type": "execute_result"
    }
   ],
   "source": [
    "type(myarray)"
   ]
  },
  {
   "cell_type": "code",
   "execution_count": 6,
   "id": "937840ff",
   "metadata": {
    "execution": {
     "iopub.execute_input": "2024-08-22T09:49:52.653927Z",
     "iopub.status.busy": "2024-08-22T09:49:52.653511Z",
     "iopub.status.idle": "2024-08-22T09:49:52.661558Z",
     "shell.execute_reply": "2024-08-22T09:49:52.660344Z"
    },
    "papermill": {
     "duration": 0.033245,
     "end_time": "2024-08-22T09:49:52.664152",
     "exception": false,
     "start_time": "2024-08-22T09:49:52.630907",
     "status": "completed"
    },
    "tags": []
   },
   "outputs": [
    {
     "data": {
      "text/plain": [
       "[[1, 2, 3], [4, 5, 6], [7, 8, 9]]"
      ]
     },
     "execution_count": 6,
     "metadata": {},
     "output_type": "execute_result"
    }
   ],
   "source": [
    "my_matrix = [[1,2,3],[4,5,6],[7,8,9]]\n",
    "my_matrix"
   ]
  },
  {
   "cell_type": "code",
   "execution_count": 7,
   "id": "0e32f7a1",
   "metadata": {
    "execution": {
     "iopub.execute_input": "2024-08-22T09:49:52.710973Z",
     "iopub.status.busy": "2024-08-22T09:49:52.710538Z",
     "iopub.status.idle": "2024-08-22T09:49:52.720591Z",
     "shell.execute_reply": "2024-08-22T09:49:52.719567Z"
    },
    "papermill": {
     "duration": 0.036187,
     "end_time": "2024-08-22T09:49:52.722862",
     "exception": false,
     "start_time": "2024-08-22T09:49:52.686675",
     "status": "completed"
    },
    "tags": []
   },
   "outputs": [
    {
     "data": {
      "text/plain": [
       "array([[1, 2, 3],\n",
       "       [4, 5, 6],\n",
       "       [7, 8, 9]])"
      ]
     },
     "execution_count": 7,
     "metadata": {},
     "output_type": "execute_result"
    }
   ],
   "source": [
    "np.array(my_matrix)"
   ]
  },
  {
   "cell_type": "code",
   "execution_count": 8,
   "id": "1c3bd28c",
   "metadata": {
    "execution": {
     "iopub.execute_input": "2024-08-22T09:49:52.767075Z",
     "iopub.status.busy": "2024-08-22T09:49:52.766624Z",
     "iopub.status.idle": "2024-08-22T09:49:52.773472Z",
     "shell.execute_reply": "2024-08-22T09:49:52.772453Z"
    },
    "papermill": {
     "duration": 0.032009,
     "end_time": "2024-08-22T09:49:52.775978",
     "exception": false,
     "start_time": "2024-08-22T09:49:52.743969",
     "status": "completed"
    },
    "tags": []
   },
   "outputs": [
    {
     "data": {
      "text/plain": [
       "array([ 0,  2,  4,  6,  8, 10, 12, 14, 16, 18])"
      ]
     },
     "execution_count": 8,
     "metadata": {},
     "output_type": "execute_result"
    }
   ],
   "source": [
    "np.arange(0,20,2)"
   ]
  },
  {
   "cell_type": "code",
   "execution_count": 9,
   "id": "4f4d5594",
   "metadata": {
    "execution": {
     "iopub.execute_input": "2024-08-22T09:49:52.821831Z",
     "iopub.status.busy": "2024-08-22T09:49:52.821377Z",
     "iopub.status.idle": "2024-08-22T09:49:52.829490Z",
     "shell.execute_reply": "2024-08-22T09:49:52.828174Z"
    },
    "papermill": {
     "duration": 0.03373,
     "end_time": "2024-08-22T09:49:52.831877",
     "exception": false,
     "start_time": "2024-08-22T09:49:52.798147",
     "status": "completed"
    },
    "tags": []
   },
   "outputs": [
    {
     "data": {
      "text/plain": [
       "array([0., 0., 0., 0., 0.])"
      ]
     },
     "execution_count": 9,
     "metadata": {},
     "output_type": "execute_result"
    }
   ],
   "source": [
    "np.zeros(5)"
   ]
  },
  {
   "cell_type": "code",
   "execution_count": 10,
   "id": "9bb74803",
   "metadata": {
    "execution": {
     "iopub.execute_input": "2024-08-22T09:49:52.878795Z",
     "iopub.status.busy": "2024-08-22T09:49:52.877747Z",
     "iopub.status.idle": "2024-08-22T09:49:52.885120Z",
     "shell.execute_reply": "2024-08-22T09:49:52.884131Z"
    },
    "papermill": {
     "duration": 0.033256,
     "end_time": "2024-08-22T09:49:52.887550",
     "exception": false,
     "start_time": "2024-08-22T09:49:52.854294",
     "status": "completed"
    },
    "tags": []
   },
   "outputs": [
    {
     "data": {
      "text/plain": [
       "array([[0., 0., 0., 0., 0.],\n",
       "       [0., 0., 0., 0., 0.]])"
      ]
     },
     "execution_count": 10,
     "metadata": {},
     "output_type": "execute_result"
    }
   ],
   "source": [
    "np.zeros((2,5))"
   ]
  },
  {
   "cell_type": "code",
   "execution_count": 11,
   "id": "23935f89",
   "metadata": {
    "execution": {
     "iopub.execute_input": "2024-08-22T09:49:52.934421Z",
     "iopub.status.busy": "2024-08-22T09:49:52.933960Z",
     "iopub.status.idle": "2024-08-22T09:49:52.941477Z",
     "shell.execute_reply": "2024-08-22T09:49:52.940443Z"
    },
    "papermill": {
     "duration": 0.033379,
     "end_time": "2024-08-22T09:49:52.943988",
     "exception": false,
     "start_time": "2024-08-22T09:49:52.910609",
     "status": "completed"
    },
    "tags": []
   },
   "outputs": [
    {
     "data": {
      "text/plain": [
       "array([[1., 1., 1., 1.],\n",
       "       [1., 1., 1., 1.],\n",
       "       [1., 1., 1., 1.],\n",
       "       [1., 1., 1., 1.]])"
      ]
     },
     "execution_count": 11,
     "metadata": {},
     "output_type": "execute_result"
    }
   ],
   "source": [
    "np.ones((4,4))"
   ]
  },
  {
   "cell_type": "code",
   "execution_count": 12,
   "id": "e5c2a3ee",
   "metadata": {
    "execution": {
     "iopub.execute_input": "2024-08-22T09:49:52.990170Z",
     "iopub.status.busy": "2024-08-22T09:49:52.989754Z",
     "iopub.status.idle": "2024-08-22T09:49:52.998102Z",
     "shell.execute_reply": "2024-08-22T09:49:52.997020Z"
    },
    "papermill": {
     "duration": 0.034129,
     "end_time": "2024-08-22T09:49:53.000366",
     "exception": false,
     "start_time": "2024-08-22T09:49:52.966237",
     "status": "completed"
    },
    "tags": []
   },
   "outputs": [
    {
     "data": {
      "text/plain": [
       "array([ 0.        ,  0.16949153,  0.33898305,  0.50847458,  0.6779661 ,\n",
       "        0.84745763,  1.01694915,  1.18644068,  1.3559322 ,  1.52542373,\n",
       "        1.69491525,  1.86440678,  2.03389831,  2.20338983,  2.37288136,\n",
       "        2.54237288,  2.71186441,  2.88135593,  3.05084746,  3.22033898,\n",
       "        3.38983051,  3.55932203,  3.72881356,  3.89830508,  4.06779661,\n",
       "        4.23728814,  4.40677966,  4.57627119,  4.74576271,  4.91525424,\n",
       "        5.08474576,  5.25423729,  5.42372881,  5.59322034,  5.76271186,\n",
       "        5.93220339,  6.10169492,  6.27118644,  6.44067797,  6.61016949,\n",
       "        6.77966102,  6.94915254,  7.11864407,  7.28813559,  7.45762712,\n",
       "        7.62711864,  7.79661017,  7.96610169,  8.13559322,  8.30508475,\n",
       "        8.47457627,  8.6440678 ,  8.81355932,  8.98305085,  9.15254237,\n",
       "        9.3220339 ,  9.49152542,  9.66101695,  9.83050847, 10.        ])"
      ]
     },
     "execution_count": 12,
     "metadata": {},
     "output_type": "execute_result"
    }
   ],
   "source": [
    "np.linspace(0,10,60)\n",
    "# Signature:      \n",
    "# np.linspace(\n",
    "#     start,\n",
    "#     stop,\n",
    "#     num=50,\n",
    "#     endpoint=True,\n",
    "#     retstep=False,\n",
    "#     dtype=None,\n",
    "#     axis=0,\n",
    "# )"
   ]
  },
  {
   "cell_type": "code",
   "execution_count": 13,
   "id": "3e9da85b",
   "metadata": {
    "execution": {
     "iopub.execute_input": "2024-08-22T09:49:53.046685Z",
     "iopub.status.busy": "2024-08-22T09:49:53.046224Z",
     "iopub.status.idle": "2024-08-22T09:49:53.053991Z",
     "shell.execute_reply": "2024-08-22T09:49:53.052860Z"
    },
    "papermill": {
     "duration": 0.033765,
     "end_time": "2024-08-22T09:49:53.056465",
     "exception": false,
     "start_time": "2024-08-22T09:49:53.022700",
     "status": "completed"
    },
    "tags": []
   },
   "outputs": [
    {
     "data": {
      "text/plain": [
       "array([[1., 0., 0., 0., 0.],\n",
       "       [0., 1., 0., 0., 0.],\n",
       "       [0., 0., 1., 0., 0.],\n",
       "       [0., 0., 0., 1., 0.],\n",
       "       [0., 0., 0., 0., 1.]])"
      ]
     },
     "execution_count": 13,
     "metadata": {},
     "output_type": "execute_result"
    }
   ],
   "source": [
    "np.eye(5)"
   ]
  },
  {
   "cell_type": "code",
   "execution_count": 14,
   "id": "25c7e2af",
   "metadata": {
    "execution": {
     "iopub.execute_input": "2024-08-22T09:49:53.104155Z",
     "iopub.status.busy": "2024-08-22T09:49:53.103723Z",
     "iopub.status.idle": "2024-08-22T09:49:53.111543Z",
     "shell.execute_reply": "2024-08-22T09:49:53.110439Z"
    },
    "papermill": {
     "duration": 0.034717,
     "end_time": "2024-08-22T09:49:53.114232",
     "exception": false,
     "start_time": "2024-08-22T09:49:53.079515",
     "status": "completed"
    },
    "tags": []
   },
   "outputs": [
    {
     "data": {
      "text/plain": [
       "array([[0.10857839, 0.00193783],\n",
       "       [0.69533843, 0.54856209],\n",
       "       [0.92385812, 0.63797315],\n",
       "       [0.35646203, 0.05693682],\n",
       "       [0.35530459, 0.8460846 ]])"
      ]
     },
     "execution_count": 14,
     "metadata": {},
     "output_type": "execute_result"
    }
   ],
   "source": [
    "np.random.rand(5,2)"
   ]
  },
  {
   "cell_type": "code",
   "execution_count": 15,
   "id": "c38bfd41",
   "metadata": {
    "execution": {
     "iopub.execute_input": "2024-08-22T09:49:53.163557Z",
     "iopub.status.busy": "2024-08-22T09:49:53.163105Z",
     "iopub.status.idle": "2024-08-22T09:49:53.170856Z",
     "shell.execute_reply": "2024-08-22T09:49:53.169735Z"
    },
    "papermill": {
     "duration": 0.035703,
     "end_time": "2024-08-22T09:49:53.173319",
     "exception": false,
     "start_time": "2024-08-22T09:49:53.137616",
     "status": "completed"
    },
    "tags": []
   },
   "outputs": [
    {
     "data": {
      "text/plain": [
       "array([[ 0.52266608,  1.38058989,  1.60063566],\n",
       "       [-0.09561655,  0.76899986,  2.06312748]])"
      ]
     },
     "execution_count": 15,
     "metadata": {},
     "output_type": "execute_result"
    }
   ],
   "source": [
    "np.random.randn(2,3)"
   ]
  },
  {
   "cell_type": "code",
   "execution_count": 16,
   "id": "f1757a19",
   "metadata": {
    "execution": {
     "iopub.execute_input": "2024-08-22T09:49:53.221208Z",
     "iopub.status.busy": "2024-08-22T09:49:53.220472Z",
     "iopub.status.idle": "2024-08-22T09:49:53.229085Z",
     "shell.execute_reply": "2024-08-22T09:49:53.228081Z"
    },
    "papermill": {
     "duration": 0.034988,
     "end_time": "2024-08-22T09:49:53.231367",
     "exception": false,
     "start_time": "2024-08-22T09:49:53.196379",
     "status": "completed"
    },
    "tags": []
   },
   "outputs": [
    {
     "data": {
      "text/plain": [
       "array([[83, 57,  6, 60, 30],\n",
       "       [12, 66, 98, 47, 34],\n",
       "       [74, 77, 88, 54, 99],\n",
       "       [50, 58, 21, 73, 45]])"
      ]
     },
     "execution_count": 16,
     "metadata": {},
     "output_type": "execute_result"
    }
   ],
   "source": [
    "np.random.randint(0,101,(4,5))"
   ]
  },
  {
   "cell_type": "code",
   "execution_count": 17,
   "id": "cd9cab27",
   "metadata": {
    "execution": {
     "iopub.execute_input": "2024-08-22T09:49:53.279953Z",
     "iopub.status.busy": "2024-08-22T09:49:53.279553Z",
     "iopub.status.idle": "2024-08-22T09:49:53.287265Z",
     "shell.execute_reply": "2024-08-22T09:49:53.286184Z"
    },
    "papermill": {
     "duration": 0.03448,
     "end_time": "2024-08-22T09:49:53.289580",
     "exception": false,
     "start_time": "2024-08-22T09:49:53.255100",
     "status": "completed"
    },
    "tags": []
   },
   "outputs": [
    {
     "data": {
      "text/plain": [
       "array([0.51639863, 0.57066759, 0.02847423, 0.17152166])"
      ]
     },
     "execution_count": 17,
     "metadata": {},
     "output_type": "execute_result"
    }
   ],
   "source": [
    "np.random.seed(101)\n",
    "np.random.rand(4)"
   ]
  },
  {
   "cell_type": "code",
   "execution_count": 18,
   "id": "1b19196e",
   "metadata": {
    "execution": {
     "iopub.execute_input": "2024-08-22T09:49:53.337949Z",
     "iopub.status.busy": "2024-08-22T09:49:53.337019Z",
     "iopub.status.idle": "2024-08-22T09:49:53.344351Z",
     "shell.execute_reply": "2024-08-22T09:49:53.343413Z"
    },
    "papermill": {
     "duration": 0.034194,
     "end_time": "2024-08-22T09:49:53.346947",
     "exception": false,
     "start_time": "2024-08-22T09:49:53.312753",
     "status": "completed"
    },
    "tags": []
   },
   "outputs": [
    {
     "data": {
      "text/plain": [
       "array([ 0,  1,  2,  3,  4,  5,  6,  7,  8,  9, 10, 11, 12, 13, 14, 15, 16,\n",
       "       17, 18, 19, 20, 21, 22, 23, 24])"
      ]
     },
     "execution_count": 18,
     "metadata": {},
     "output_type": "execute_result"
    }
   ],
   "source": [
    "arr = np.arange(0,25)\n",
    "arr"
   ]
  },
  {
   "cell_type": "code",
   "execution_count": 19,
   "id": "d564ca52",
   "metadata": {
    "execution": {
     "iopub.execute_input": "2024-08-22T09:49:53.395788Z",
     "iopub.status.busy": "2024-08-22T09:49:53.395363Z",
     "iopub.status.idle": "2024-08-22T09:49:53.402775Z",
     "shell.execute_reply": "2024-08-22T09:49:53.401609Z"
    },
    "papermill": {
     "duration": 0.03444,
     "end_time": "2024-08-22T09:49:53.405117",
     "exception": false,
     "start_time": "2024-08-22T09:49:53.370677",
     "status": "completed"
    },
    "tags": []
   },
   "outputs": [
    {
     "data": {
      "text/plain": [
       "array([[ 0,  1,  2,  3,  4],\n",
       "       [ 5,  6,  7,  8,  9],\n",
       "       [10, 11, 12, 13, 14],\n",
       "       [15, 16, 17, 18, 19],\n",
       "       [20, 21, 22, 23, 24]])"
      ]
     },
     "execution_count": 19,
     "metadata": {},
     "output_type": "execute_result"
    }
   ],
   "source": [
    "arr.reshape(5,5)"
   ]
  },
  {
   "cell_type": "code",
   "execution_count": 20,
   "id": "6136ca00",
   "metadata": {
    "execution": {
     "iopub.execute_input": "2024-08-22T09:49:53.454448Z",
     "iopub.status.busy": "2024-08-22T09:49:53.453456Z",
     "iopub.status.idle": "2024-08-22T09:49:53.458787Z",
     "shell.execute_reply": "2024-08-22T09:49:53.457752Z"
    },
    "papermill": {
     "duration": 0.03294,
     "end_time": "2024-08-22T09:49:53.461062",
     "exception": false,
     "start_time": "2024-08-22T09:49:53.428122",
     "status": "completed"
    },
    "tags": []
   },
   "outputs": [],
   "source": [
    "randarray = np.random.randint(0,101,10)"
   ]
  },
  {
   "cell_type": "code",
   "execution_count": 21,
   "id": "677ae87d",
   "metadata": {
    "execution": {
     "iopub.execute_input": "2024-08-22T09:49:53.508619Z",
     "iopub.status.busy": "2024-08-22T09:49:53.508170Z",
     "iopub.status.idle": "2024-08-22T09:49:53.515039Z",
     "shell.execute_reply": "2024-08-22T09:49:53.513956Z"
    },
    "papermill": {
     "duration": 0.033149,
     "end_time": "2024-08-22T09:49:53.517516",
     "exception": false,
     "start_time": "2024-08-22T09:49:53.484367",
     "status": "completed"
    },
    "tags": []
   },
   "outputs": [
    {
     "data": {
      "text/plain": [
       "array([ 9, 77, 40,  4, 63, 40, 60, 92, 64,  5])"
      ]
     },
     "execution_count": 21,
     "metadata": {},
     "output_type": "execute_result"
    }
   ],
   "source": [
    "randarray"
   ]
  },
  {
   "cell_type": "code",
   "execution_count": 22,
   "id": "89c52fc1",
   "metadata": {
    "execution": {
     "iopub.execute_input": "2024-08-22T09:49:53.567730Z",
     "iopub.status.busy": "2024-08-22T09:49:53.566723Z",
     "iopub.status.idle": "2024-08-22T09:49:53.573981Z",
     "shell.execute_reply": "2024-08-22T09:49:53.572904Z"
    },
    "papermill": {
     "duration": 0.035239,
     "end_time": "2024-08-22T09:49:53.576090",
     "exception": false,
     "start_time": "2024-08-22T09:49:53.540851",
     "status": "completed"
    },
    "tags": []
   },
   "outputs": [
    {
     "data": {
      "text/plain": [
       "92"
      ]
     },
     "execution_count": 22,
     "metadata": {},
     "output_type": "execute_result"
    }
   ],
   "source": [
    "randarray.max()"
   ]
  },
  {
   "cell_type": "code",
   "execution_count": 23,
   "id": "6a828df2",
   "metadata": {
    "execution": {
     "iopub.execute_input": "2024-08-22T09:49:53.625512Z",
     "iopub.status.busy": "2024-08-22T09:49:53.625095Z",
     "iopub.status.idle": "2024-08-22T09:49:53.632807Z",
     "shell.execute_reply": "2024-08-22T09:49:53.631713Z"
    },
    "papermill": {
     "duration": 0.035314,
     "end_time": "2024-08-22T09:49:53.635248",
     "exception": false,
     "start_time": "2024-08-22T09:49:53.599934",
     "status": "completed"
    },
    "tags": []
   },
   "outputs": [
    {
     "data": {
      "text/plain": [
       "4"
      ]
     },
     "execution_count": 23,
     "metadata": {},
     "output_type": "execute_result"
    }
   ],
   "source": [
    "randarray.min()"
   ]
  },
  {
   "cell_type": "code",
   "execution_count": 24,
   "id": "21dc2d27",
   "metadata": {
    "execution": {
     "iopub.execute_input": "2024-08-22T09:49:53.684083Z",
     "iopub.status.busy": "2024-08-22T09:49:53.683687Z",
     "iopub.status.idle": "2024-08-22T09:49:53.691615Z",
     "shell.execute_reply": "2024-08-22T09:49:53.690462Z"
    },
    "papermill": {
     "duration": 0.035618,
     "end_time": "2024-08-22T09:49:53.693974",
     "exception": false,
     "start_time": "2024-08-22T09:49:53.658356",
     "status": "completed"
    },
    "tags": []
   },
   "outputs": [
    {
     "data": {
      "text/plain": [
       "7"
      ]
     },
     "execution_count": 24,
     "metadata": {},
     "output_type": "execute_result"
    }
   ],
   "source": [
    "randarray.argmax()"
   ]
  },
  {
   "cell_type": "code",
   "execution_count": 25,
   "id": "b5c1c3a1",
   "metadata": {
    "execution": {
     "iopub.execute_input": "2024-08-22T09:49:53.743246Z",
     "iopub.status.busy": "2024-08-22T09:49:53.742393Z",
     "iopub.status.idle": "2024-08-22T09:49:53.749470Z",
     "shell.execute_reply": "2024-08-22T09:49:53.748419Z"
    },
    "papermill": {
     "duration": 0.034023,
     "end_time": "2024-08-22T09:49:53.751787",
     "exception": false,
     "start_time": "2024-08-22T09:49:53.717764",
     "status": "completed"
    },
    "tags": []
   },
   "outputs": [
    {
     "data": {
      "text/plain": [
       "3"
      ]
     },
     "execution_count": 25,
     "metadata": {},
     "output_type": "execute_result"
    }
   ],
   "source": [
    "randarray.argmin()"
   ]
  },
  {
   "cell_type": "code",
   "execution_count": 26,
   "id": "77e65225",
   "metadata": {
    "execution": {
     "iopub.execute_input": "2024-08-22T09:49:53.801422Z",
     "iopub.status.busy": "2024-08-22T09:49:53.800362Z",
     "iopub.status.idle": "2024-08-22T09:49:53.807743Z",
     "shell.execute_reply": "2024-08-22T09:49:53.806659Z"
    },
    "papermill": {
     "duration": 0.034735,
     "end_time": "2024-08-22T09:49:53.810180",
     "exception": false,
     "start_time": "2024-08-22T09:49:53.775445",
     "status": "completed"
    },
    "tags": []
   },
   "outputs": [
    {
     "data": {
      "text/plain": [
       "dtype('int64')"
      ]
     },
     "execution_count": 26,
     "metadata": {},
     "output_type": "execute_result"
    }
   ],
   "source": [
    "randarray.dtype"
   ]
  },
  {
   "cell_type": "code",
   "execution_count": 27,
   "id": "ca11a635",
   "metadata": {
    "execution": {
     "iopub.execute_input": "2024-08-22T09:49:53.862568Z",
     "iopub.status.busy": "2024-08-22T09:49:53.861599Z",
     "iopub.status.idle": "2024-08-22T09:49:53.868634Z",
     "shell.execute_reply": "2024-08-22T09:49:53.867461Z"
    },
    "papermill": {
     "duration": 0.035304,
     "end_time": "2024-08-22T09:49:53.871107",
     "exception": false,
     "start_time": "2024-08-22T09:49:53.835803",
     "status": "completed"
    },
    "tags": []
   },
   "outputs": [
    {
     "data": {
      "text/plain": [
       "array([ 0,  1,  2,  3,  4,  5,  6,  7,  8,  9, 10, 11, 12, 13, 14, 15, 16,\n",
       "       17, 18, 19, 20, 21, 22, 23, 24])"
      ]
     },
     "execution_count": 27,
     "metadata": {},
     "output_type": "execute_result"
    }
   ],
   "source": [
    "arr"
   ]
  },
  {
   "cell_type": "code",
   "execution_count": 28,
   "id": "98399375",
   "metadata": {
    "execution": {
     "iopub.execute_input": "2024-08-22T09:49:53.922250Z",
     "iopub.status.busy": "2024-08-22T09:49:53.921258Z",
     "iopub.status.idle": "2024-08-22T09:49:53.928022Z",
     "shell.execute_reply": "2024-08-22T09:49:53.926986Z"
    },
    "papermill": {
     "duration": 0.034866,
     "end_time": "2024-08-22T09:49:53.930450",
     "exception": false,
     "start_time": "2024-08-22T09:49:53.895584",
     "status": "completed"
    },
    "tags": []
   },
   "outputs": [
    {
     "data": {
      "text/plain": [
       "(25,)"
      ]
     },
     "execution_count": 28,
     "metadata": {},
     "output_type": "execute_result"
    }
   ],
   "source": [
    "arr.shape"
   ]
  },
  {
   "cell_type": "code",
   "execution_count": 29,
   "id": "575708ce",
   "metadata": {
    "execution": {
     "iopub.execute_input": "2024-08-22T09:49:53.981327Z",
     "iopub.status.busy": "2024-08-22T09:49:53.980461Z",
     "iopub.status.idle": "2024-08-22T09:49:53.985745Z",
     "shell.execute_reply": "2024-08-22T09:49:53.984664Z"
    },
    "papermill": {
     "duration": 0.033468,
     "end_time": "2024-08-22T09:49:53.988265",
     "exception": false,
     "start_time": "2024-08-22T09:49:53.954797",
     "status": "completed"
    },
    "tags": []
   },
   "outputs": [],
   "source": [
    "arr = np.arange(0,11)"
   ]
  },
  {
   "cell_type": "code",
   "execution_count": 30,
   "id": "86d3a234",
   "metadata": {
    "execution": {
     "iopub.execute_input": "2024-08-22T09:49:54.037989Z",
     "iopub.status.busy": "2024-08-22T09:49:54.037570Z",
     "iopub.status.idle": "2024-08-22T09:49:54.044327Z",
     "shell.execute_reply": "2024-08-22T09:49:54.043383Z"
    },
    "papermill": {
     "duration": 0.034245,
     "end_time": "2024-08-22T09:49:54.046554",
     "exception": false,
     "start_time": "2024-08-22T09:49:54.012309",
     "status": "completed"
    },
    "tags": []
   },
   "outputs": [
    {
     "data": {
      "text/plain": [
       "array([ 0,  1,  2,  3,  4,  5,  6,  7,  8,  9, 10])"
      ]
     },
     "execution_count": 30,
     "metadata": {},
     "output_type": "execute_result"
    }
   ],
   "source": [
    "arr"
   ]
  },
  {
   "cell_type": "code",
   "execution_count": 31,
   "id": "fccf9ac3",
   "metadata": {
    "execution": {
     "iopub.execute_input": "2024-08-22T09:49:54.098855Z",
     "iopub.status.busy": "2024-08-22T09:49:54.098429Z",
     "iopub.status.idle": "2024-08-22T09:49:54.105657Z",
     "shell.execute_reply": "2024-08-22T09:49:54.104614Z"
    },
    "papermill": {
     "duration": 0.036394,
     "end_time": "2024-08-22T09:49:54.108205",
     "exception": false,
     "start_time": "2024-08-22T09:49:54.071811",
     "status": "completed"
    },
    "tags": []
   },
   "outputs": [
    {
     "data": {
      "text/plain": [
       "8"
      ]
     },
     "execution_count": 31,
     "metadata": {},
     "output_type": "execute_result"
    }
   ],
   "source": [
    "arr[8]"
   ]
  },
  {
   "cell_type": "code",
   "execution_count": 32,
   "id": "3fbf74ec",
   "metadata": {
    "execution": {
     "iopub.execute_input": "2024-08-22T09:49:54.160627Z",
     "iopub.status.busy": "2024-08-22T09:49:54.159651Z",
     "iopub.status.idle": "2024-08-22T09:49:54.166808Z",
     "shell.execute_reply": "2024-08-22T09:49:54.165759Z"
    },
    "papermill": {
     "duration": 0.036101,
     "end_time": "2024-08-22T09:49:54.169229",
     "exception": false,
     "start_time": "2024-08-22T09:49:54.133128",
     "status": "completed"
    },
    "tags": []
   },
   "outputs": [
    {
     "data": {
      "text/plain": [
       "array([1, 2, 3, 4])"
      ]
     },
     "execution_count": 32,
     "metadata": {},
     "output_type": "execute_result"
    }
   ],
   "source": [
    "arr[1:5]"
   ]
  },
  {
   "cell_type": "code",
   "execution_count": 33,
   "id": "769421d6",
   "metadata": {
    "execution": {
     "iopub.execute_input": "2024-08-22T09:49:54.272229Z",
     "iopub.status.busy": "2024-08-22T09:49:54.271787Z",
     "iopub.status.idle": "2024-08-22T09:49:54.279054Z",
     "shell.execute_reply": "2024-08-22T09:49:54.277941Z"
    },
    "papermill": {
     "duration": 0.036465,
     "end_time": "2024-08-22T09:49:54.281424",
     "exception": false,
     "start_time": "2024-08-22T09:49:54.244959",
     "status": "completed"
    },
    "tags": []
   },
   "outputs": [
    {
     "data": {
      "text/plain": [
       "array([0, 1, 2, 3, 4])"
      ]
     },
     "execution_count": 33,
     "metadata": {},
     "output_type": "execute_result"
    }
   ],
   "source": [
    "arr[0:5]"
   ]
  },
  {
   "cell_type": "code",
   "execution_count": 34,
   "id": "dcc2b862",
   "metadata": {
    "execution": {
     "iopub.execute_input": "2024-08-22T09:49:54.334362Z",
     "iopub.status.busy": "2024-08-22T09:49:54.333648Z",
     "iopub.status.idle": "2024-08-22T09:49:54.340934Z",
     "shell.execute_reply": "2024-08-22T09:49:54.339916Z"
    },
    "papermill": {
     "duration": 0.036342,
     "end_time": "2024-08-22T09:49:54.343216",
     "exception": false,
     "start_time": "2024-08-22T09:49:54.306874",
     "status": "completed"
    },
    "tags": []
   },
   "outputs": [
    {
     "data": {
      "text/plain": [
       "array([0, 1, 2, 3, 4])"
      ]
     },
     "execution_count": 34,
     "metadata": {},
     "output_type": "execute_result"
    }
   ],
   "source": [
    "arr[:5]"
   ]
  },
  {
   "cell_type": "code",
   "execution_count": 35,
   "id": "30aad15f",
   "metadata": {
    "execution": {
     "iopub.execute_input": "2024-08-22T09:49:54.396898Z",
     "iopub.status.busy": "2024-08-22T09:49:54.395933Z",
     "iopub.status.idle": "2024-08-22T09:49:54.403129Z",
     "shell.execute_reply": "2024-08-22T09:49:54.402016Z"
    },
    "papermill": {
     "duration": 0.036692,
     "end_time": "2024-08-22T09:49:54.405550",
     "exception": false,
     "start_time": "2024-08-22T09:49:54.368858",
     "status": "completed"
    },
    "tags": []
   },
   "outputs": [
    {
     "data": {
      "text/plain": [
       "array([ 5,  6,  7,  8,  9, 10])"
      ]
     },
     "execution_count": 35,
     "metadata": {},
     "output_type": "execute_result"
    }
   ],
   "source": [
    "arr[5:]"
   ]
  },
  {
   "cell_type": "code",
   "execution_count": 36,
   "id": "a267a6b5",
   "metadata": {
    "execution": {
     "iopub.execute_input": "2024-08-22T09:49:54.458130Z",
     "iopub.status.busy": "2024-08-22T09:49:54.457696Z",
     "iopub.status.idle": "2024-08-22T09:49:54.462538Z",
     "shell.execute_reply": "2024-08-22T09:49:54.461303Z"
    },
    "papermill": {
     "duration": 0.034509,
     "end_time": "2024-08-22T09:49:54.465178",
     "exception": false,
     "start_time": "2024-08-22T09:49:54.430669",
     "status": "completed"
    },
    "tags": []
   },
   "outputs": [],
   "source": [
    "arr[0:5] = 100"
   ]
  },
  {
   "cell_type": "code",
   "execution_count": 37,
   "id": "82a90dcb",
   "metadata": {
    "execution": {
     "iopub.execute_input": "2024-08-22T09:49:54.518250Z",
     "iopub.status.busy": "2024-08-22T09:49:54.517798Z",
     "iopub.status.idle": "2024-08-22T09:49:54.524480Z",
     "shell.execute_reply": "2024-08-22T09:49:54.523473Z"
    },
    "papermill": {
     "duration": 0.035534,
     "end_time": "2024-08-22T09:49:54.526763",
     "exception": false,
     "start_time": "2024-08-22T09:49:54.491229",
     "status": "completed"
    },
    "tags": []
   },
   "outputs": [
    {
     "data": {
      "text/plain": [
       "array([100, 100, 100, 100, 100,   5,   6,   7,   8,   9,  10])"
      ]
     },
     "execution_count": 37,
     "metadata": {},
     "output_type": "execute_result"
    }
   ],
   "source": [
    "arr"
   ]
  },
  {
   "cell_type": "code",
   "execution_count": 38,
   "id": "6343f894",
   "metadata": {
    "execution": {
     "iopub.execute_input": "2024-08-22T09:49:54.580984Z",
     "iopub.status.busy": "2024-08-22T09:49:54.580589Z",
     "iopub.status.idle": "2024-08-22T09:49:54.585417Z",
     "shell.execute_reply": "2024-08-22T09:49:54.584320Z"
    },
    "papermill": {
     "duration": 0.034845,
     "end_time": "2024-08-22T09:49:54.587880",
     "exception": false,
     "start_time": "2024-08-22T09:49:54.553035",
     "status": "completed"
    },
    "tags": []
   },
   "outputs": [],
   "source": [
    "arr=np.arange(0,11)"
   ]
  },
  {
   "cell_type": "code",
   "execution_count": 39,
   "id": "4d83ab9b",
   "metadata": {
    "execution": {
     "iopub.execute_input": "2024-08-22T09:49:54.641039Z",
     "iopub.status.busy": "2024-08-22T09:49:54.640064Z",
     "iopub.status.idle": "2024-08-22T09:49:54.647443Z",
     "shell.execute_reply": "2024-08-22T09:49:54.646264Z"
    },
    "papermill": {
     "duration": 0.036338,
     "end_time": "2024-08-22T09:49:54.649697",
     "exception": false,
     "start_time": "2024-08-22T09:49:54.613359",
     "status": "completed"
    },
    "tags": []
   },
   "outputs": [
    {
     "data": {
      "text/plain": [
       "array([ 0,  1,  2,  3,  4,  5,  6,  7,  8,  9, 10])"
      ]
     },
     "execution_count": 39,
     "metadata": {},
     "output_type": "execute_result"
    }
   ],
   "source": [
    "arr"
   ]
  },
  {
   "cell_type": "code",
   "execution_count": 40,
   "id": "44c14cea",
   "metadata": {
    "execution": {
     "iopub.execute_input": "2024-08-22T09:49:54.703675Z",
     "iopub.status.busy": "2024-08-22T09:49:54.703277Z",
     "iopub.status.idle": "2024-08-22T09:49:54.710723Z",
     "shell.execute_reply": "2024-08-22T09:49:54.709594Z"
    },
    "papermill": {
     "duration": 0.037139,
     "end_time": "2024-08-22T09:49:54.713141",
     "exception": false,
     "start_time": "2024-08-22T09:49:54.676002",
     "status": "completed"
    },
    "tags": []
   },
   "outputs": [
    {
     "data": {
      "text/plain": [
       "array([0, 1, 2, 3, 4])"
      ]
     },
     "execution_count": 40,
     "metadata": {},
     "output_type": "execute_result"
    }
   ],
   "source": [
    "slice_of_arr = arr[0:5]\n",
    "slice_of_arr"
   ]
  },
  {
   "cell_type": "code",
   "execution_count": 41,
   "id": "c3895835",
   "metadata": {
    "execution": {
     "iopub.execute_input": "2024-08-22T09:49:54.767070Z",
     "iopub.status.busy": "2024-08-22T09:49:54.766072Z",
     "iopub.status.idle": "2024-08-22T09:49:54.772847Z",
     "shell.execute_reply": "2024-08-22T09:49:54.771881Z"
    },
    "papermill": {
     "duration": 0.035956,
     "end_time": "2024-08-22T09:49:54.775064",
     "exception": false,
     "start_time": "2024-08-22T09:49:54.739108",
     "status": "completed"
    },
    "tags": []
   },
   "outputs": [
    {
     "data": {
      "text/plain": [
       "array([ 0,  1,  2,  3,  4,  5,  6,  7,  8,  9, 10])"
      ]
     },
     "execution_count": 41,
     "metadata": {},
     "output_type": "execute_result"
    }
   ],
   "source": [
    "arr"
   ]
  },
  {
   "cell_type": "code",
   "execution_count": 42,
   "id": "1e754842",
   "metadata": {
    "execution": {
     "iopub.execute_input": "2024-08-22T09:49:54.828540Z",
     "iopub.status.busy": "2024-08-22T09:49:54.827696Z",
     "iopub.status.idle": "2024-08-22T09:49:54.835450Z",
     "shell.execute_reply": "2024-08-22T09:49:54.834085Z"
    },
    "papermill": {
     "duration": 0.037554,
     "end_time": "2024-08-22T09:49:54.837894",
     "exception": false,
     "start_time": "2024-08-22T09:49:54.800340",
     "status": "completed"
    },
    "tags": []
   },
   "outputs": [
    {
     "data": {
      "text/plain": [
       "array([99, 99, 99, 99, 99])"
      ]
     },
     "execution_count": 42,
     "metadata": {},
     "output_type": "execute_result"
    }
   ],
   "source": [
    "slice_of_arr[:] = 99\n",
    "slice_of_arr"
   ]
  },
  {
   "cell_type": "code",
   "execution_count": 43,
   "id": "7c6d8bd0",
   "metadata": {
    "execution": {
     "iopub.execute_input": "2024-08-22T09:49:54.892980Z",
     "iopub.status.busy": "2024-08-22T09:49:54.892128Z",
     "iopub.status.idle": "2024-08-22T09:49:54.899121Z",
     "shell.execute_reply": "2024-08-22T09:49:54.898096Z"
    },
    "papermill": {
     "duration": 0.036903,
     "end_time": "2024-08-22T09:49:54.901522",
     "exception": false,
     "start_time": "2024-08-22T09:49:54.864619",
     "status": "completed"
    },
    "tags": []
   },
   "outputs": [
    {
     "data": {
      "text/plain": [
       "array([99, 99, 99, 99, 99,  5,  6,  7,  8,  9, 10])"
      ]
     },
     "execution_count": 43,
     "metadata": {},
     "output_type": "execute_result"
    }
   ],
   "source": [
    "arr"
   ]
  },
  {
   "cell_type": "code",
   "execution_count": 44,
   "id": "82d76c3a",
   "metadata": {
    "execution": {
     "iopub.execute_input": "2024-08-22T09:49:54.955426Z",
     "iopub.status.busy": "2024-08-22T09:49:54.954686Z",
     "iopub.status.idle": "2024-08-22T09:49:54.959641Z",
     "shell.execute_reply": "2024-08-22T09:49:54.958638Z"
    },
    "papermill": {
     "duration": 0.034302,
     "end_time": "2024-08-22T09:49:54.961858",
     "exception": false,
     "start_time": "2024-08-22T09:49:54.927556",
     "status": "completed"
    },
    "tags": []
   },
   "outputs": [],
   "source": [
    "arr_copy = arr.copy()"
   ]
  },
  {
   "cell_type": "code",
   "execution_count": 45,
   "id": "d0bf70ce",
   "metadata": {
    "execution": {
     "iopub.execute_input": "2024-08-22T09:49:55.016124Z",
     "iopub.status.busy": "2024-08-22T09:49:55.015353Z",
     "iopub.status.idle": "2024-08-22T09:49:55.022281Z",
     "shell.execute_reply": "2024-08-22T09:49:55.021070Z"
    },
    "papermill": {
     "duration": 0.037017,
     "end_time": "2024-08-22T09:49:55.024774",
     "exception": false,
     "start_time": "2024-08-22T09:49:54.987757",
     "status": "completed"
    },
    "tags": []
   },
   "outputs": [
    {
     "data": {
      "text/plain": [
       "array([100, 100, 100, 100, 100, 100, 100, 100, 100, 100, 100])"
      ]
     },
     "execution_count": 45,
     "metadata": {},
     "output_type": "execute_result"
    }
   ],
   "source": [
    "arr_copy[:] = 100\n",
    "arr_copy"
   ]
  },
  {
   "cell_type": "code",
   "execution_count": 46,
   "id": "0129c699",
   "metadata": {
    "execution": {
     "iopub.execute_input": "2024-08-22T09:49:55.079646Z",
     "iopub.status.busy": "2024-08-22T09:49:55.079205Z",
     "iopub.status.idle": "2024-08-22T09:49:55.086291Z",
     "shell.execute_reply": "2024-08-22T09:49:55.085196Z"
    },
    "papermill": {
     "duration": 0.037736,
     "end_time": "2024-08-22T09:49:55.088650",
     "exception": false,
     "start_time": "2024-08-22T09:49:55.050914",
     "status": "completed"
    },
    "tags": []
   },
   "outputs": [
    {
     "data": {
      "text/plain": [
       "array([99, 99, 99, 99, 99,  5,  6,  7,  8,  9, 10])"
      ]
     },
     "execution_count": 46,
     "metadata": {},
     "output_type": "execute_result"
    }
   ],
   "source": [
    "arr"
   ]
  },
  {
   "cell_type": "code",
   "execution_count": 47,
   "id": "0c8cbcf0",
   "metadata": {
    "execution": {
     "iopub.execute_input": "2024-08-22T09:49:55.144483Z",
     "iopub.status.busy": "2024-08-22T09:49:55.144037Z",
     "iopub.status.idle": "2024-08-22T09:49:55.151601Z",
     "shell.execute_reply": "2024-08-22T09:49:55.150582Z"
    },
    "papermill": {
     "duration": 0.037947,
     "end_time": "2024-08-22T09:49:55.153937",
     "exception": false,
     "start_time": "2024-08-22T09:49:55.115990",
     "status": "completed"
    },
    "tags": []
   },
   "outputs": [
    {
     "data": {
      "text/plain": [
       "array([[ 5, 10, 15],\n",
       "       [20, 25, 30],\n",
       "       [35, 40, 45]])"
      ]
     },
     "execution_count": 47,
     "metadata": {},
     "output_type": "execute_result"
    }
   ],
   "source": [
    "arr_2d = np.array([[5,10,15],[20,25,30],[35,40,45]])\n",
    "arr_2d"
   ]
  },
  {
   "cell_type": "code",
   "execution_count": 48,
   "id": "9566e304",
   "metadata": {
    "execution": {
     "iopub.execute_input": "2024-08-22T09:49:55.209590Z",
     "iopub.status.busy": "2024-08-22T09:49:55.209105Z",
     "iopub.status.idle": "2024-08-22T09:49:55.215634Z",
     "shell.execute_reply": "2024-08-22T09:49:55.214700Z"
    },
    "papermill": {
     "duration": 0.037185,
     "end_time": "2024-08-22T09:49:55.218133",
     "exception": false,
     "start_time": "2024-08-22T09:49:55.180948",
     "status": "completed"
    },
    "tags": []
   },
   "outputs": [
    {
     "data": {
      "text/plain": [
       "(3, 3)"
      ]
     },
     "execution_count": 48,
     "metadata": {},
     "output_type": "execute_result"
    }
   ],
   "source": [
    "arr_2d.shape"
   ]
  },
  {
   "cell_type": "code",
   "execution_count": 49,
   "id": "85c48723",
   "metadata": {
    "execution": {
     "iopub.execute_input": "2024-08-22T09:49:55.274418Z",
     "iopub.status.busy": "2024-08-22T09:49:55.273471Z",
     "iopub.status.idle": "2024-08-22T09:49:55.280322Z",
     "shell.execute_reply": "2024-08-22T09:49:55.279284Z"
    },
    "papermill": {
     "duration": 0.037759,
     "end_time": "2024-08-22T09:49:55.282730",
     "exception": false,
     "start_time": "2024-08-22T09:49:55.244971",
     "status": "completed"
    },
    "tags": []
   },
   "outputs": [
    {
     "data": {
      "text/plain": [
       "array([ 5, 10, 15])"
      ]
     },
     "execution_count": 49,
     "metadata": {},
     "output_type": "execute_result"
    }
   ],
   "source": [
    "arr_2d[0]"
   ]
  },
  {
   "cell_type": "code",
   "execution_count": 50,
   "id": "b0636749",
   "metadata": {
    "execution": {
     "iopub.execute_input": "2024-08-22T09:49:55.339274Z",
     "iopub.status.busy": "2024-08-22T09:49:55.338275Z",
     "iopub.status.idle": "2024-08-22T09:49:55.345501Z",
     "shell.execute_reply": "2024-08-22T09:49:55.344429Z"
    },
    "papermill": {
     "duration": 0.037943,
     "end_time": "2024-08-22T09:49:55.347740",
     "exception": false,
     "start_time": "2024-08-22T09:49:55.309797",
     "status": "completed"
    },
    "tags": []
   },
   "outputs": [
    {
     "data": {
      "text/plain": [
       "array([35, 40, 45])"
      ]
     },
     "execution_count": 50,
     "metadata": {},
     "output_type": "execute_result"
    }
   ],
   "source": [
    "arr_2d[2]"
   ]
  },
  {
   "cell_type": "code",
   "execution_count": 51,
   "id": "dda42bf3",
   "metadata": {
    "execution": {
     "iopub.execute_input": "2024-08-22T09:49:55.404413Z",
     "iopub.status.busy": "2024-08-22T09:49:55.403674Z",
     "iopub.status.idle": "2024-08-22T09:49:55.410734Z",
     "shell.execute_reply": "2024-08-22T09:49:55.409687Z"
    },
    "papermill": {
     "duration": 0.038131,
     "end_time": "2024-08-22T09:49:55.413163",
     "exception": false,
     "start_time": "2024-08-22T09:49:55.375032",
     "status": "completed"
    },
    "tags": []
   },
   "outputs": [
    {
     "data": {
      "text/plain": [
       "45"
      ]
     },
     "execution_count": 51,
     "metadata": {},
     "output_type": "execute_result"
    }
   ],
   "source": [
    "arr_2d[2][2]"
   ]
  },
  {
   "cell_type": "code",
   "execution_count": 52,
   "id": "e1e90b0b",
   "metadata": {
    "execution": {
     "iopub.execute_input": "2024-08-22T09:49:55.470376Z",
     "iopub.status.busy": "2024-08-22T09:49:55.469196Z",
     "iopub.status.idle": "2024-08-22T09:49:55.476453Z",
     "shell.execute_reply": "2024-08-22T09:49:55.475448Z"
    },
    "papermill": {
     "duration": 0.038207,
     "end_time": "2024-08-22T09:49:55.478742",
     "exception": false,
     "start_time": "2024-08-22T09:49:55.440535",
     "status": "completed"
    },
    "tags": []
   },
   "outputs": [
    {
     "data": {
      "text/plain": [
       "15"
      ]
     },
     "execution_count": 52,
     "metadata": {},
     "output_type": "execute_result"
    }
   ],
   "source": [
    "arr_2d[0][2]"
   ]
  },
  {
   "cell_type": "code",
   "execution_count": 53,
   "id": "577aece8",
   "metadata": {
    "execution": {
     "iopub.execute_input": "2024-08-22T09:49:55.535395Z",
     "iopub.status.busy": "2024-08-22T09:49:55.534708Z",
     "iopub.status.idle": "2024-08-22T09:49:55.541813Z",
     "shell.execute_reply": "2024-08-22T09:49:55.540850Z"
    },
    "papermill": {
     "duration": 0.038324,
     "end_time": "2024-08-22T09:49:55.544041",
     "exception": false,
     "start_time": "2024-08-22T09:49:55.505717",
     "status": "completed"
    },
    "tags": []
   },
   "outputs": [
    {
     "data": {
      "text/plain": [
       "array([[ 5, 10, 15],\n",
       "       [20, 25, 30]])"
      ]
     },
     "execution_count": 53,
     "metadata": {},
     "output_type": "execute_result"
    }
   ],
   "source": [
    "arr_2d[:2]"
   ]
  },
  {
   "cell_type": "code",
   "execution_count": 54,
   "id": "bbd477f5",
   "metadata": {
    "execution": {
     "iopub.execute_input": "2024-08-22T09:49:55.602308Z",
     "iopub.status.busy": "2024-08-22T09:49:55.601545Z",
     "iopub.status.idle": "2024-08-22T09:49:55.608453Z",
     "shell.execute_reply": "2024-08-22T09:49:55.607472Z"
    },
    "papermill": {
     "duration": 0.039051,
     "end_time": "2024-08-22T09:49:55.610941",
     "exception": false,
     "start_time": "2024-08-22T09:49:55.571890",
     "status": "completed"
    },
    "tags": []
   },
   "outputs": [
    {
     "data": {
      "text/plain": [
       "array([[10, 15],\n",
       "       [25, 30]])"
      ]
     },
     "execution_count": 54,
     "metadata": {},
     "output_type": "execute_result"
    }
   ],
   "source": [
    "arr_2d[:2,1:]"
   ]
  },
  {
   "cell_type": "code",
   "execution_count": 55,
   "id": "a5679c17",
   "metadata": {
    "execution": {
     "iopub.execute_input": "2024-08-22T09:49:55.667984Z",
     "iopub.status.busy": "2024-08-22T09:49:55.667555Z",
     "iopub.status.idle": "2024-08-22T09:49:55.674782Z",
     "shell.execute_reply": "2024-08-22T09:49:55.673810Z"
    },
    "papermill": {
     "duration": 0.03902,
     "end_time": "2024-08-22T09:49:55.677149",
     "exception": false,
     "start_time": "2024-08-22T09:49:55.638129",
     "status": "completed"
    },
    "tags": []
   },
   "outputs": [
    {
     "data": {
      "text/plain": [
       "array([ 1,  2,  3,  4,  5,  6,  7,  8,  9, 10])"
      ]
     },
     "execution_count": 55,
     "metadata": {},
     "output_type": "execute_result"
    }
   ],
   "source": [
    "arr = np.arange(1,11)\n",
    "arr"
   ]
  },
  {
   "cell_type": "code",
   "execution_count": 56,
   "id": "fcb9757a",
   "metadata": {
    "execution": {
     "iopub.execute_input": "2024-08-22T09:49:55.735606Z",
     "iopub.status.busy": "2024-08-22T09:49:55.734692Z",
     "iopub.status.idle": "2024-08-22T09:49:55.741348Z",
     "shell.execute_reply": "2024-08-22T09:49:55.740357Z"
    },
    "papermill": {
     "duration": 0.038549,
     "end_time": "2024-08-22T09:49:55.743791",
     "exception": false,
     "start_time": "2024-08-22T09:49:55.705242",
     "status": "completed"
    },
    "tags": []
   },
   "outputs": [
    {
     "data": {
      "text/plain": [
       "array([False, False, False, False,  True,  True,  True,  True,  True,\n",
       "        True])"
      ]
     },
     "execution_count": 56,
     "metadata": {},
     "output_type": "execute_result"
    }
   ],
   "source": [
    "arr>4"
   ]
  },
  {
   "cell_type": "code",
   "execution_count": 57,
   "id": "2b9a926f",
   "metadata": {
    "execution": {
     "iopub.execute_input": "2024-08-22T09:49:55.801281Z",
     "iopub.status.busy": "2024-08-22T09:49:55.800254Z",
     "iopub.status.idle": "2024-08-22T09:49:55.807224Z",
     "shell.execute_reply": "2024-08-22T09:49:55.806287Z"
    },
    "papermill": {
     "duration": 0.038071,
     "end_time": "2024-08-22T09:49:55.809572",
     "exception": false,
     "start_time": "2024-08-22T09:49:55.771501",
     "status": "completed"
    },
    "tags": []
   },
   "outputs": [
    {
     "data": {
      "text/plain": [
       "array([ 5,  6,  7,  8,  9, 10])"
      ]
     },
     "execution_count": 57,
     "metadata": {},
     "output_type": "execute_result"
    }
   ],
   "source": [
    "bool_arr = arr>4\n",
    "arr[bool_arr]"
   ]
  },
  {
   "cell_type": "code",
   "execution_count": 58,
   "id": "245e7baf",
   "metadata": {
    "execution": {
     "iopub.execute_input": "2024-08-22T09:49:55.870676Z",
     "iopub.status.busy": "2024-08-22T09:49:55.869898Z",
     "iopub.status.idle": "2024-08-22T09:49:55.877134Z",
     "shell.execute_reply": "2024-08-22T09:49:55.876054Z"
    },
    "papermill": {
     "duration": 0.041733,
     "end_time": "2024-08-22T09:49:55.879476",
     "exception": false,
     "start_time": "2024-08-22T09:49:55.837743",
     "status": "completed"
    },
    "tags": []
   },
   "outputs": [
    {
     "data": {
      "text/plain": [
       "array([ 5,  6,  7,  8,  9, 10])"
      ]
     },
     "execution_count": 58,
     "metadata": {},
     "output_type": "execute_result"
    }
   ],
   "source": [
    "arr[arr>4]"
   ]
  },
  {
   "cell_type": "code",
   "execution_count": 59,
   "id": "7eb5e83c",
   "metadata": {
    "execution": {
     "iopub.execute_input": "2024-08-22T09:49:55.939764Z",
     "iopub.status.busy": "2024-08-22T09:49:55.938931Z",
     "iopub.status.idle": "2024-08-22T09:49:55.946072Z",
     "shell.execute_reply": "2024-08-22T09:49:55.945028Z"
    },
    "papermill": {
     "duration": 0.04022,
     "end_time": "2024-08-22T09:49:55.948454",
     "exception": false,
     "start_time": "2024-08-22T09:49:55.908234",
     "status": "completed"
    },
    "tags": []
   },
   "outputs": [
    {
     "data": {
      "text/plain": [
       "array([0, 1, 2, 3, 4, 5, 6, 7, 8, 9])"
      ]
     },
     "execution_count": 59,
     "metadata": {},
     "output_type": "execute_result"
    }
   ],
   "source": [
    "arr = np.arange(0,10)\n",
    "arr"
   ]
  },
  {
   "cell_type": "code",
   "execution_count": 60,
   "id": "4d900a09",
   "metadata": {
    "execution": {
     "iopub.execute_input": "2024-08-22T09:49:56.008843Z",
     "iopub.status.busy": "2024-08-22T09:49:56.008086Z",
     "iopub.status.idle": "2024-08-22T09:49:56.015165Z",
     "shell.execute_reply": "2024-08-22T09:49:56.014208Z"
    },
    "papermill": {
     "duration": 0.039722,
     "end_time": "2024-08-22T09:49:56.017409",
     "exception": false,
     "start_time": "2024-08-22T09:49:55.977687",
     "status": "completed"
    },
    "tags": []
   },
   "outputs": [
    {
     "data": {
      "text/plain": [
       "array([ 5,  6,  7,  8,  9, 10, 11, 12, 13, 14])"
      ]
     },
     "execution_count": 60,
     "metadata": {},
     "output_type": "execute_result"
    }
   ],
   "source": [
    "arr+5"
   ]
  },
  {
   "cell_type": "code",
   "execution_count": 61,
   "id": "fd9a8336",
   "metadata": {
    "execution": {
     "iopub.execute_input": "2024-08-22T09:49:56.077755Z",
     "iopub.status.busy": "2024-08-22T09:49:56.077295Z",
     "iopub.status.idle": "2024-08-22T09:49:56.084809Z",
     "shell.execute_reply": "2024-08-22T09:49:56.083738Z"
    },
    "papermill": {
     "duration": 0.040726,
     "end_time": "2024-08-22T09:49:56.087226",
     "exception": false,
     "start_time": "2024-08-22T09:49:56.046500",
     "status": "completed"
    },
    "tags": []
   },
   "outputs": [
    {
     "data": {
      "text/plain": [
       "array([-2, -1,  0,  1,  2,  3,  4,  5,  6,  7])"
      ]
     },
     "execution_count": 61,
     "metadata": {},
     "output_type": "execute_result"
    }
   ],
   "source": [
    "arr-2"
   ]
  },
  {
   "cell_type": "code",
   "execution_count": 62,
   "id": "b1d5b0a7",
   "metadata": {
    "execution": {
     "iopub.execute_input": "2024-08-22T09:49:56.147648Z",
     "iopub.status.busy": "2024-08-22T09:49:56.146809Z",
     "iopub.status.idle": "2024-08-22T09:49:56.154465Z",
     "shell.execute_reply": "2024-08-22T09:49:56.153213Z"
    },
    "papermill": {
     "duration": 0.040315,
     "end_time": "2024-08-22T09:49:56.156820",
     "exception": false,
     "start_time": "2024-08-22T09:49:56.116505",
     "status": "completed"
    },
    "tags": []
   },
   "outputs": [
    {
     "data": {
      "text/plain": [
       "array([ 0,  2,  4,  6,  8, 10, 12, 14, 16, 18])"
      ]
     },
     "execution_count": 62,
     "metadata": {},
     "output_type": "execute_result"
    }
   ],
   "source": [
    "arr+arr"
   ]
  },
  {
   "cell_type": "code",
   "execution_count": 63,
   "id": "16b82b0b",
   "metadata": {
    "execution": {
     "iopub.execute_input": "2024-08-22T09:49:56.217370Z",
     "iopub.status.busy": "2024-08-22T09:49:56.216573Z",
     "iopub.status.idle": "2024-08-22T09:49:56.223472Z",
     "shell.execute_reply": "2024-08-22T09:49:56.222486Z"
    },
    "papermill": {
     "duration": 0.039477,
     "end_time": "2024-08-22T09:49:56.225632",
     "exception": false,
     "start_time": "2024-08-22T09:49:56.186155",
     "status": "completed"
    },
    "tags": []
   },
   "outputs": [
    {
     "data": {
      "text/plain": [
       "array([ 0,  3,  6,  9, 12, 15, 18, 21, 24, 27])"
      ]
     },
     "execution_count": 63,
     "metadata": {},
     "output_type": "execute_result"
    }
   ],
   "source": [
    "arr*3"
   ]
  },
  {
   "cell_type": "code",
   "execution_count": 64,
   "id": "5183123b",
   "metadata": {
    "execution": {
     "iopub.execute_input": "2024-08-22T09:49:56.286497Z",
     "iopub.status.busy": "2024-08-22T09:49:56.285373Z",
     "iopub.status.idle": "2024-08-22T09:49:56.293007Z",
     "shell.execute_reply": "2024-08-22T09:49:56.291940Z"
    },
    "papermill": {
     "duration": 0.040363,
     "end_time": "2024-08-22T09:49:56.295144",
     "exception": false,
     "start_time": "2024-08-22T09:49:56.254781",
     "status": "completed"
    },
    "tags": []
   },
   "outputs": [
    {
     "data": {
      "text/plain": [
       "array([0.        , 1.        , 1.41421356, 1.73205081, 2.        ,\n",
       "       2.23606798, 2.44948974, 2.64575131, 2.82842712, 3.        ])"
      ]
     },
     "execution_count": 64,
     "metadata": {},
     "output_type": "execute_result"
    }
   ],
   "source": [
    "np.sqrt(arr)"
   ]
  },
  {
   "cell_type": "code",
   "execution_count": 65,
   "id": "2ccf67e1",
   "metadata": {
    "execution": {
     "iopub.execute_input": "2024-08-22T09:49:56.355829Z",
     "iopub.status.busy": "2024-08-22T09:49:56.354890Z",
     "iopub.status.idle": "2024-08-22T09:49:56.362154Z",
     "shell.execute_reply": "2024-08-22T09:49:56.361014Z"
    },
    "papermill": {
     "duration": 0.040193,
     "end_time": "2024-08-22T09:49:56.364550",
     "exception": false,
     "start_time": "2024-08-22T09:49:56.324357",
     "status": "completed"
    },
    "tags": []
   },
   "outputs": [
    {
     "data": {
      "text/plain": [
       "array([0, 1, 2, 3, 4, 5, 6, 7, 8, 9])"
      ]
     },
     "execution_count": 65,
     "metadata": {},
     "output_type": "execute_result"
    }
   ],
   "source": [
    "arr"
   ]
  },
  {
   "cell_type": "code",
   "execution_count": 66,
   "id": "6c55b639",
   "metadata": {
    "execution": {
     "iopub.execute_input": "2024-08-22T09:49:56.427594Z",
     "iopub.status.busy": "2024-08-22T09:49:56.426446Z",
     "iopub.status.idle": "2024-08-22T09:49:56.434034Z",
     "shell.execute_reply": "2024-08-22T09:49:56.432974Z"
    },
    "papermill": {
     "duration": 0.041788,
     "end_time": "2024-08-22T09:49:56.436484",
     "exception": false,
     "start_time": "2024-08-22T09:49:56.394696",
     "status": "completed"
    },
    "tags": []
   },
   "outputs": [
    {
     "data": {
      "text/plain": [
       "45"
      ]
     },
     "execution_count": 66,
     "metadata": {},
     "output_type": "execute_result"
    }
   ],
   "source": [
    "arr.sum()"
   ]
  },
  {
   "cell_type": "code",
   "execution_count": 67,
   "id": "4556dcba",
   "metadata": {
    "execution": {
     "iopub.execute_input": "2024-08-22T09:49:56.497273Z",
     "iopub.status.busy": "2024-08-22T09:49:56.496888Z",
     "iopub.status.idle": "2024-08-22T09:49:56.505374Z",
     "shell.execute_reply": "2024-08-22T09:49:56.504319Z"
    },
    "papermill": {
     "duration": 0.042077,
     "end_time": "2024-08-22T09:49:56.507866",
     "exception": false,
     "start_time": "2024-08-22T09:49:56.465789",
     "status": "completed"
    },
    "tags": []
   },
   "outputs": [
    {
     "data": {
      "text/plain": [
       "8.25"
      ]
     },
     "execution_count": 67,
     "metadata": {},
     "output_type": "execute_result"
    }
   ],
   "source": [
    "arr.var()"
   ]
  },
  {
   "cell_type": "code",
   "execution_count": 68,
   "id": "fa8991ee",
   "metadata": {
    "execution": {
     "iopub.execute_input": "2024-08-22T09:49:56.570156Z",
     "iopub.status.busy": "2024-08-22T09:49:56.569299Z",
     "iopub.status.idle": "2024-08-22T09:49:56.576689Z",
     "shell.execute_reply": "2024-08-22T09:49:56.575655Z"
    },
    "papermill": {
     "duration": 0.041249,
     "end_time": "2024-08-22T09:49:56.579105",
     "exception": false,
     "start_time": "2024-08-22T09:49:56.537856",
     "status": "completed"
    },
    "tags": []
   },
   "outputs": [
    {
     "data": {
      "text/plain": [
       "2.8722813232690143"
      ]
     },
     "execution_count": 68,
     "metadata": {},
     "output_type": "execute_result"
    }
   ],
   "source": [
    "arr.std()"
   ]
  },
  {
   "cell_type": "code",
   "execution_count": 69,
   "id": "da5b1d2c",
   "metadata": {
    "execution": {
     "iopub.execute_input": "2024-08-22T09:49:56.642596Z",
     "iopub.status.busy": "2024-08-22T09:49:56.642136Z",
     "iopub.status.idle": "2024-08-22T09:49:56.647328Z",
     "shell.execute_reply": "2024-08-22T09:49:56.646317Z"
    },
    "papermill": {
     "duration": 0.039515,
     "end_time": "2024-08-22T09:49:56.649947",
     "exception": false,
     "start_time": "2024-08-22T09:49:56.610432",
     "status": "completed"
    },
    "tags": []
   },
   "outputs": [],
   "source": [
    "arr_2d = np.arange(0,25).reshape(5,5)"
   ]
  },
  {
   "cell_type": "code",
   "execution_count": 70,
   "id": "bac904fe",
   "metadata": {
    "execution": {
     "iopub.execute_input": "2024-08-22T09:49:56.712695Z",
     "iopub.status.busy": "2024-08-22T09:49:56.712242Z",
     "iopub.status.idle": "2024-08-22T09:49:56.719158Z",
     "shell.execute_reply": "2024-08-22T09:49:56.718224Z"
    },
    "papermill": {
     "duration": 0.041211,
     "end_time": "2024-08-22T09:49:56.721742",
     "exception": false,
     "start_time": "2024-08-22T09:49:56.680531",
     "status": "completed"
    },
    "tags": []
   },
   "outputs": [
    {
     "data": {
      "text/plain": [
       "array([[ 0,  1,  2,  3,  4],\n",
       "       [ 5,  6,  7,  8,  9],\n",
       "       [10, 11, 12, 13, 14],\n",
       "       [15, 16, 17, 18, 19],\n",
       "       [20, 21, 22, 23, 24]])"
      ]
     },
     "execution_count": 70,
     "metadata": {},
     "output_type": "execute_result"
    }
   ],
   "source": [
    "arr_2d"
   ]
  },
  {
   "cell_type": "code",
   "execution_count": 71,
   "id": "1dfed98f",
   "metadata": {
    "execution": {
     "iopub.execute_input": "2024-08-22T09:49:56.784184Z",
     "iopub.status.busy": "2024-08-22T09:49:56.783299Z",
     "iopub.status.idle": "2024-08-22T09:49:56.790156Z",
     "shell.execute_reply": "2024-08-22T09:49:56.789183Z"
    },
    "papermill": {
     "duration": 0.041015,
     "end_time": "2024-08-22T09:49:56.792754",
     "exception": false,
     "start_time": "2024-08-22T09:49:56.751739",
     "status": "completed"
    },
    "tags": []
   },
   "outputs": [
    {
     "data": {
      "text/plain": [
       "300"
      ]
     },
     "execution_count": 71,
     "metadata": {},
     "output_type": "execute_result"
    }
   ],
   "source": [
    "arr_2d.sum()"
   ]
  },
  {
   "cell_type": "code",
   "execution_count": 72,
   "id": "26b2bc95",
   "metadata": {
    "execution": {
     "iopub.execute_input": "2024-08-22T09:49:56.859660Z",
     "iopub.status.busy": "2024-08-22T09:49:56.858779Z",
     "iopub.status.idle": "2024-08-22T09:49:56.866256Z",
     "shell.execute_reply": "2024-08-22T09:49:56.865150Z"
    },
    "papermill": {
     "duration": 0.044652,
     "end_time": "2024-08-22T09:49:56.868694",
     "exception": false,
     "start_time": "2024-08-22T09:49:56.824042",
     "status": "completed"
    },
    "tags": []
   },
   "outputs": [
    {
     "data": {
      "text/plain": [
       "array([50, 55, 60, 65, 70])"
      ]
     },
     "execution_count": 72,
     "metadata": {},
     "output_type": "execute_result"
    }
   ],
   "source": [
    "arr_2d.sum(axis=0)"
   ]
  },
  {
   "cell_type": "code",
   "execution_count": 73,
   "id": "684dcbe6",
   "metadata": {
    "execution": {
     "iopub.execute_input": "2024-08-22T09:49:56.931449Z",
     "iopub.status.busy": "2024-08-22T09:49:56.931031Z",
     "iopub.status.idle": "2024-08-22T09:49:56.938502Z",
     "shell.execute_reply": "2024-08-22T09:49:56.937378Z"
    },
    "papermill": {
     "duration": 0.041652,
     "end_time": "2024-08-22T09:49:56.940705",
     "exception": false,
     "start_time": "2024-08-22T09:49:56.899053",
     "status": "completed"
    },
    "tags": []
   },
   "outputs": [
    {
     "data": {
      "text/plain": [
       "array([ 10,  35,  60,  85, 110])"
      ]
     },
     "execution_count": 73,
     "metadata": {},
     "output_type": "execute_result"
    }
   ],
   "source": [
    "arr_2d.sum(axis=1)"
   ]
  }
 ],
 "metadata": {
  "kaggle": {
   "accelerator": "none",
   "dataSources": [],
   "dockerImageVersionId": 30761,
   "isGpuEnabled": false,
   "isInternetEnabled": true,
   "language": "python",
   "sourceType": "notebook"
  },
  "kernelspec": {
   "display_name": "Python 3",
   "language": "python",
   "name": "python3"
  },
  "language_info": {
   "codemirror_mode": {
    "name": "ipython",
    "version": 3
   },
   "file_extension": ".py",
   "mimetype": "text/x-python",
   "name": "python",
   "nbconvert_exporter": "python",
   "pygments_lexer": "ipython3",
   "version": "3.10.14"
  },
  "papermill": {
   "default_parameters": {},
   "duration": 8.35769,
   "end_time": "2024-08-22T09:49:57.391723",
   "environment_variables": {},
   "exception": null,
   "input_path": "__notebook__.ipynb",
   "output_path": "__notebook__.ipynb",
   "parameters": {},
   "start_time": "2024-08-22T09:49:49.034033",
   "version": "2.6.0"
  }
 },
 "nbformat": 4,
 "nbformat_minor": 5
}
